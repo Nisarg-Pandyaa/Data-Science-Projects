{
 "cells": [
  {
   "cell_type": "markdown",
   "id": "1d060c23-f7f1-4b7e-a604-9f66de4d6a13",
   "metadata": {},
   "source": [
    "<h2/> Pages You May Like </h2>\n"
   ]
  },
  {
   "cell_type": "code",
   "execution_count": 1,
   "id": "af43f6e2-1c41-47d5-9d97-2eedb8167d7f",
   "metadata": {},
   "outputs": [],
   "source": [
    "# If p1 likes 7,1,4,9,3 and p2 like 9,2,6,1,5. Now both have liked 1 and 9 (suggestion = 2) so we will suggest 2,6,5 to p1 and 7,4,3 to p2 if asked. "
   ]
  },
  {
   "cell_type": "code",
   "execution_count": 4,
   "id": "0cc3abc3-a066-45c3-87df-d6fe4840f085",
   "metadata": {},
   "outputs": [],
   "source": [
    "def load_data(filename):\n",
    "    with open(filename,\"r\") as f:\n",
    "        return json.load(f)"
   ]
  },
  {
   "cell_type": "code",
   "execution_count": 5,
   "id": "ae6eb6bc-167b-4fbc-a3d9-56df542f3331",
   "metadata": {},
   "outputs": [],
   "source": [
    "data = load_data(\"cleaned_data.json\")"
   ]
  },
  {
   "cell_type": "code",
   "execution_count": 22,
   "id": "93edf5d6-7cc2-42a9-af97-5a98b342bb65",
   "metadata": {},
   "outputs": [],
   "source": [
    "user_pages = {}\n",
    "for user in data['users']:\n",
    "    user_pages[user[\"KU'id\"]] = set(user['liked_pages'])\n",
    "\n",
    "page_names = {p[\"id\"]: p[\"name\"] for p in data[\"pages\"]}\n",
    "\n",
    "def pages_you_might_like(user_id, top_n=5):\n",
    "    if user_id not in user_pages:\n",
    "        return []\n",
    "\n",
    "    liked = user_pages[user_id]\n",
    "    scores = {}\n",
    "\n",
    "    for uid, pages in user_pages.items():\n",
    "        if uid != user_id:\n",
    "            common = liked & pages         # shared pages\n",
    "            for p in pages - liked:        # pages user hasn't liked\n",
    "                scores[p] = scores.get(p, 0) + len(common)\n",
    "\n",
    "    return [page_names[p] for p, _ in sorted(scores.items(),key=lambda x: x[1], reverse=True)[:top_n]]"
   ]
  },
  {
   "cell_type": "code",
   "execution_count": 21,
   "id": "14973ae1-11ed-47eb-b743-adf92c263ff0",
   "metadata": {},
   "outputs": [
    {
     "name": "stdout",
     "output_type": "stream",
     "text": [
      "Pages You Might Like for User KU2407U5: []\n"
     ]
    }
   ],
   "source": [
    "user_id = \"KU2407U5\" \n",
    "page_recommendations = pages_you_might_like(user_id)\n",
    "print(f\"Pages You Might Like for User {user_id}: {page_recommendations}\")"
   ]
  },
  {
   "cell_type": "code",
   "execution_count": null,
   "id": "0125be6c-050e-4812-9650-200ca5560fe4",
   "metadata": {},
   "outputs": [],
   "source": []
  }
 ],
 "metadata": {
  "kernelspec": {
   "display_name": "Python [conda env:demo]",
   "language": "python",
   "name": "conda-env-demo-py"
  },
  "language_info": {
   "codemirror_mode": {
    "name": "ipython",
    "version": 3
   },
   "file_extension": ".py",
   "mimetype": "text/x-python",
   "name": "python",
   "nbconvert_exporter": "python",
   "pygments_lexer": "ipython3",
   "version": "3.13.5"
  }
 },
 "nbformat": 4,
 "nbformat_minor": 5
}
