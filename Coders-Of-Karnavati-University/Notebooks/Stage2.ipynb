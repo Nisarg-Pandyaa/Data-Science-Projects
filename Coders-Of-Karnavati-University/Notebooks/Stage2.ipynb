{
 "cells": [
  {
   "cell_type": "markdown",
   "id": "0db23644-4fdd-4bbe-a318-6dca9400239e",
   "metadata": {},
   "source": [
    "<h2/> Data Cleaning </h2>\n"
   ]
  },
  {
   "cell_type": "code",
   "execution_count": 1,
   "id": "60c7ada7-a69b-41a5-8400-8803fbf9a212",
   "metadata": {},
   "outputs": [],
   "source": [
    "import json"
   ]
  },
  {
   "cell_type": "code",
   "execution_count": 5,
   "id": "b7320888-cdc0-4f6c-9595-ea48acf56b87",
   "metadata": {},
   "outputs": [],
   "source": [
    "def clean_data(data):\n",
    "    #remove users with no (empty) name\n",
    "    data[\"users\"] = [user for user in data[\"users\"] if user[\"name\"].strip()]\n",
    "\n",
    "    #remove duplicate friends\n",
    "    for user in data[\"users\"]:\n",
    "        user['friends'] = list(set(user['friends']))\n",
    "\n",
    "    #remove inactive users (user with no friend & no liked pages)\n",
    "    data['users'] = [user for user in data['users'] if user['friends'] or user['liked_pages']]\n",
    "\n",
    "    #remove invalid IDs from friend list\n",
    "    valid_user = {user[\"KU'id\"] for user in data[\"users\"]}\n",
    "\n",
    "    for user in data[\"users\"]:\n",
    "        user[\"friends\"] = [friend for friend in user[\"friends\"] if friend in valid_user]\n",
    "\n",
    "    #remove duplicate pages\n",
    "    unique_pages = {}\n",
    "    for page in data['pages']:\n",
    "        unique_pages[page['id']] = page\n",
    "    data['pages'] = list(unique_pages.values())\n",
    "    \n",
    "    return data"
   ]
  },
  {
   "cell_type": "code",
   "execution_count": 6,
   "id": "a1514d03-a537-445d-842a-0ef450e8d4d4",
   "metadata": {},
   "outputs": [
    {
     "name": "stdout",
     "output_type": "stream",
     "text": [
      "DATA has been cleaned successfully !!\n"
     ]
    }
   ],
   "source": [
    "data = json.load(open(\"Data Dump.json\"))\n",
    "data = clean_data(data)\n",
    "json.dump(data ,open(\"cleaned_data.json\",\"w\"), indent=4)\n",
    "print(\"DATA has been cleaned successfully !!\")"
   ]
  },
  {
   "cell_type": "code",
   "execution_count": null,
   "id": "d0961071-3c87-4780-a775-48a41c4e47dd",
   "metadata": {},
   "outputs": [],
   "source": []
  }
 ],
 "metadata": {
  "kernelspec": {
   "display_name": "Python [conda env:demo]",
   "language": "python",
   "name": "conda-env-demo-py"
  },
  "language_info": {
   "codemirror_mode": {
    "name": "ipython",
    "version": 3
   },
   "file_extension": ".py",
   "mimetype": "text/x-python",
   "name": "python",
   "nbconvert_exporter": "python",
   "pygments_lexer": "ipython3",
   "version": "3.13.5"
  }
 },
 "nbformat": 4,
 "nbformat_minor": 5
}
