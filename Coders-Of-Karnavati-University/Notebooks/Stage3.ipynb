{
 "cells": [
  {
   "cell_type": "markdown",
   "id": "93be1eaa-7beb-44a0-b874-65b64bb1191e",
   "metadata": {},
   "source": [
    "<h2/> People You May Know </h2>"
   ]
  },
  {
   "cell_type": "code",
   "execution_count": 1,
   "id": "a75c90a3-7efd-443c-a6ad-983159e0bbef",
   "metadata": {},
   "outputs": [],
   "source": [
    "import json"
   ]
  },
  {
   "cell_type": "code",
   "execution_count": 2,
   "id": "1f2648bc-b39f-4c37-aeb6-28332ca58ec2",
   "metadata": {},
   "outputs": [],
   "source": [
    "def load_data(filename):\n",
    "    with open(filename,\"r\") as f:\n",
    "        return json.load(f)"
   ]
  },
  {
   "cell_type": "code",
   "execution_count": 3,
   "id": "01f00dba-63bf-4b3d-bf1a-99ac8ab1f76d",
   "metadata": {},
   "outputs": [],
   "source": [
    "data = load_data(\"cleaned_data.json\")"
   ]
  },
  {
   "cell_type": "code",
   "execution_count": 4,
   "id": "615c8102-f765-492c-8de5-484453f19354",
   "metadata": {},
   "outputs": [],
   "source": [
    "friends_dict = {u[\"KU'id\"]: u[\"friends\"] for u in data['users']}\n",
    "names_dict   = {u[\"KU'id\"]: u[\"name\"]    for u in data['users']}\n",
    "\n",
    "\n",
    "def people_you_might_know(user_id):\n",
    "\n",
    "    # If user_id is not valid\n",
    "    if user_id not in friends_dict:\n",
    "        return \"User not found\"\n",
    "\n",
    "    direct_friends = friends_dict[user_id]\n",
    "\n",
    "    suggestions = []\n",
    "    for f in direct_friends:         # go through each friend\n",
    "        for fof in friends_dict.get(f, []):   # look at their friends\n",
    "            if fof != user_id and fof not in direct_friends:\n",
    "                if fof not in suggestions:   # avoid duplicates\n",
    "                    suggestions.append(fof)\n",
    "\n",
    "    \n",
    "    result = []\n",
    "    for s in suggestions:\n",
    "        result.append(f\"{names_dict.get(s, 'Unknown')} : {s}\")\n",
    "\n",
    "    if result:\n",
    "        return \"You May Know: \" + \" | \".join(result)\n",
    "    else:\n",
    "        return \"No suggestions\"\n"
   ]
  },
  {
   "cell_type": "code",
   "execution_count": 11,
   "id": "18a2bf31-f5e4-49e6-838c-8be1f6407cd6",
   "metadata": {},
   "outputs": [
    {
     "name": "stdout",
     "output_type": "stream",
     "text": [
      "Enter Your KU'ID:\n"
     ]
    },
    {
     "name": "stdin",
     "output_type": "stream",
     "text": [
      " KU2407U3\n"
     ]
    },
    {
     "data": {
      "text/plain": [
       "'You May Know: Priya : KU2407U2 | Rohan : KU2407U11 | Meera : KU2407U15 | Manan : KU2407U16 | Kabir : KU2407U13 | Neha : KU2407U6'"
      ]
     },
     "execution_count": 11,
     "metadata": {},
     "output_type": "execute_result"
    }
   ],
   "source": [
    "print(\"Enter Your KU'ID:\")\n",
    "user_id = input()\n",
    "people_you_might_know(user_id)"
   ]
  },
  {
   "cell_type": "code",
   "execution_count": null,
   "id": "c6214279-2011-48cb-a0a5-df25f12366ba",
   "metadata": {},
   "outputs": [],
   "source": []
  }
 ],
 "metadata": {
  "kernelspec": {
   "display_name": "Python [conda env:demo]",
   "language": "python",
   "name": "conda-env-demo-py"
  },
  "language_info": {
   "codemirror_mode": {
    "name": "ipython",
    "version": 3
   },
   "file_extension": ".py",
   "mimetype": "text/x-python",
   "name": "python",
   "nbconvert_exporter": "python",
   "pygments_lexer": "ipython3",
   "version": "3.13.5"
  }
 },
 "nbformat": 4,
 "nbformat_minor": 5
}
